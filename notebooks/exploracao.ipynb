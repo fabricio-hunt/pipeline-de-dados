{
 "cells": [
  {
   "cell_type": "markdown",
   "id": "91abdec8",
   "metadata": {},
   "source": [
    "Explorando Dados"
   ]
  },
  {
   "cell_type": "code",
   "execution_count": null,
   "id": "96f16f91",
   "metadata": {},
   "outputs": [
    {
     "name": "stdout",
     "output_type": "stream",
     "text": [
      "../data_row/dados_empresaA.json\n"
     ]
    }
   ],
   "source": [
    "path_json = '../data_row/dados_empresaA.json'\n",
    "\n",
    "print(path_json)"
   ]
  },
  {
   "cell_type": "code",
   "execution_count": 5,
   "id": "f65d3b77",
   "metadata": {},
   "outputs": [
    {
     "name": "stdout",
     "output_type": "stream",
     "text": [
      "\n",
      "\n"
     ]
    }
   ],
   "source": [
    "with open(path_json, 'r') as file:\n",
    "    print (file.readline())"
   ]
  }
 ],
 "metadata": {
  "kernelspec": {
   "display_name": "venv",
   "language": "python",
   "name": "python3"
  },
  "language_info": {
   "codemirror_mode": {
    "name": "ipython",
    "version": 3
   },
   "file_extension": ".py",
   "mimetype": "text/x-python",
   "name": "python",
   "nbconvert_exporter": "python",
   "pygments_lexer": "ipython3",
   "version": "3.10.12"
  }
 },
 "nbformat": 4,
 "nbformat_minor": 5
}
